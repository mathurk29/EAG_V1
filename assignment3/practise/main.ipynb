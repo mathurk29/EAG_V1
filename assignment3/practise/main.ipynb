{
 "cells": [
  {
   "cell_type": "code",
   "execution_count": null,
   "metadata": {},
   "outputs": [],
   "source": [
    "from dotenv import load_dotenv\n",
    "\n",
    "# Load environment variables from .env file\n",
    "load_dotenv()"
   ]
  },
  {
   "cell_type": "code",
   "execution_count": 2,
   "metadata": {},
   "outputs": [],
   "source": [
    "import os\n",
    "\n",
    "# Access your API key\n",
    "api_key = os.getenv(\"GEMINI_API_KEY\")\n",
    "\n",
    "\n",
    "from google import genai\n",
    "\n",
    "client = genai.Client(api_key=api_key)"
   ]
  },
  {
   "cell_type": "code",
   "execution_count": null,
   "metadata": {},
   "outputs": [],
   "source": [
    "response = client.models.generate_content(model=\"gemini-2.0-flash\", contents=\"Hi\")\n",
    "response.text.strip()\n"
   ]
  },
  {
   "cell_type": "code",
   "execution_count": 4,
   "metadata": {},
   "outputs": [],
   "source": [
    "def generate_fibonacci(n: int):\n",
    "    \"\"\"\n",
    "    Generate the first n Fibonacci numbers.\n",
    "    :param n: Number of Fibonacci numbers to generate.\n",
    "    :return: List of first n Fibonacci numbers.\n",
    "    \"\"\"\n",
    "    if n <= 0:\n",
    "        return []\n",
    "    elif n == 1:\n",
    "        return [0]\n",
    "    elif n == 2:\n",
    "        return [0, 1]\n",
    "\n",
    "    fib_sequence = [0, 1]\n",
    "    for i in range(2, n):\n",
    "        fib_sequence.append(fib_sequence[-1] + fib_sequence[-2])\n",
    "    return fib_sequence\n"
   ]
  },
  {
   "cell_type": "code",
   "execution_count": 5,
   "metadata": {},
   "outputs": [],
   "source": [
    "def sum_list(lst):\n",
    "    \"\"\"\n",
    "    Compute the sum of elements in a list.\n",
    "    :param lst: List of numbers.\n",
    "    :return: Sum of all numbers in the list.\n",
    "    \"\"\"\n",
    "    return sum(lst)"
   ]
  },
  {
   "cell_type": "code",
   "execution_count": 6,
   "metadata": {},
   "outputs": [],
   "source": [
    "import math\n",
    "\n",
    "def get_log_base_10(x):\n",
    "    \"\"\"\n",
    "    Compute the logarithm (base 10) of a number.\n",
    "    :param x: Number to take log of.\n",
    "    :return: Logarithm (base 10) of x.\n",
    "    \"\"\"\n",
    "    return math.log10(x)"
   ]
  },
  {
   "cell_type": "code",
   "execution_count": 7,
   "metadata": {},
   "outputs": [],
   "source": [
    "def apply_function(fn, input_list):\n",
    "    '''\n",
    "    Apply a function to each element of a list.\n",
    "    :param fn: Function to apply.\n",
    "    :param input_list: List of numbers.\n",
    "    :return: List of results.\n",
    "    '''\n",
    "    return [fn(x) for x in input_list]"
   ]
  },
  {
   "cell_type": "code",
   "execution_count": 8,
   "metadata": {},
   "outputs": [],
   "source": [
    "def slice_list(lst, start=0, end=None):\n",
    "    \"\"\"\n",
    "    Slice a list from start to end (exclusive).\n",
    "    :param lst: List to slice.\n",
    "    :param start: Start index.\n",
    "    :param end: End index (exclusive).\n",
    "    :return: Sliced list. \n",
    "    \"\"\"\n",
    "    return lst[start:end]"
   ]
  },
  {
   "cell_type": "code",
   "execution_count": 9,
   "metadata": {},
   "outputs": [],
   "source": [
    "def function_caller(func_name, params):\n",
    "    \"\"\"Simple function caller that maps function names to actual functions\"\"\"\n",
    "    function_map = {\n",
    "        \"generate_fibonacci\": generate_fibonacci,\n",
    "        \"get_log_base_10\": get_log_base_10,\n",
    "        \"sum_list\": sum_list,\n",
    "        \"apply_function\": apply_function,\n",
    "        \"slice_list\": slice_list\n",
    "    }\n",
    "    \n",
    "    if func_name in function_map:\n",
    "        return function_map[func_name](params)\n",
    "    else:\n",
    "        return f\"Function {func_name} not found\""
   ]
  },
  {
   "cell_type": "code",
   "execution_count": 10,
   "metadata": {},
   "outputs": [],
   "source": [
    "system_prompt = \"\"\"\n",
    "You are a math agent solving problems in iterations. Respond with EXACTLY ONE of these formats:\n",
    "\n",
    "1. FUNCTION_CALL: python_function_name|input\n",
    "2. FINAL_ANSWER: [number]\n",
    "\n",
    "where python_function_name is one of the following:\n",
    "\n",
    "1 sum_list:\n",
    "     Compute the sum of elements in a list.\n",
    "     :param lst: List of numbers.\n",
    "     :return: Sum of all numbers in the list.\n",
    "2 generate_fibonacci:     \n",
    "    Generate the first n Fibonacci numbers.\n",
    "    :param n: Number of Fibonacci numbers to generate.\n",
    "    :return: List of first n Fibonacci numbers..\n",
    "3 get_log_base_10: \n",
    "    Compute the logarithm (base 10) of a number.\n",
    "    :param x: Number to take log of.\n",
    "    :return: Logarithm (base 10) of x.\n",
    "4 apply_function:\n",
    "    Apply a function to each element of a list.\n",
    "    :param fn: Function to apply.\n",
    "    :param input_list: List of numbers.\n",
    "    :return: List of results.\n",
    "\n",
    "\n",
    "Analyze the functions based on their name and description to determine how they can be used to solve the problem.\n",
    "\n",
    "If the provided functions are not enough to solve the problem, respond with \"Inadequate tools: Provided tools are not enough to solve the problem.\" along with what functionality is missing. DO NOT create your own functions. Use only the provided functions.\n",
    "\n",
    "DO NOT include multiple responses. Give ONE response at a time.\n",
    "\n",
    "\n",
    "\"\"\""
   ]
  },
  {
   "cell_type": "code",
   "execution_count": 11,
   "metadata": {},
   "outputs": [],
   "source": [
    "query1 = \"\"\"\n",
    "Compute the sum of logarithms (base 10) of the first 10 Fibonacci numbers except the first 3 Fibonacci numbers.\n",
    "\"\"\""
   ]
  },
  {
   "cell_type": "code",
   "execution_count": 12,
   "metadata": {},
   "outputs": [],
   "source": [
    "query = \"\"\"\n",
    "Get list of first 10 Fibonacci numbers. Ignore the first 3 Fibonacci numbers. Now get log to the base 10 of the list of the numbers. Now sum all the logarithms.\n",
    "\"\"\""
   ]
  },
  {
   "cell_type": "code",
   "execution_count": 13,
   "metadata": {},
   "outputs": [],
   "source": [
    "max_iterations = 20\n",
    "current_iteration = 0\n",
    "iteration_response = []\n",
    "last_response = None"
   ]
  },
  {
   "cell_type": "code",
   "execution_count": null,
   "metadata": {},
   "outputs": [],
   "source": [
    "import ast\n",
    "\n",
    "\n",
    "while current_iteration < max_iterations:\n",
    "    print(f\"\\n--- Iteration {current_iteration + 1} ---\")\n",
    "    if last_response == None:\n",
    "        current_query = query\n",
    "    else:\n",
    "        current_query = current_query + \"\\n\\n\" + \" \".join(iteration_response)\n",
    "        current_query = current_query + \"  What should I do next?\"\n",
    "\n",
    "    # Get model's response\n",
    "    prompt = f\"{system_prompt}\\n\\nQuery: {current_query}\"\n",
    "    response = client.models.generate_content(model=\"gemini-2.0-flash\", contents=prompt)\n",
    "\n",
    "    response_text = response.text.strip()\n",
    "    print(f\"LLM Response: {response_text}\")\n",
    "\n",
    "    if response_text.startswith(\"FUNCTION_CALL:\"):\n",
    "        response_text = response.text.strip()\n",
    "        _, function_info = response_text.split(\":\", 1)\n",
    "        func_name, params = [x.strip() for x in function_info.split(\"|\", 1)]\n",
    "        iteration_result = function_caller(func_name, ast.literal_eval(params))\n",
    "\n",
    "    # Check if it's the final answer\n",
    "    elif response_text.startswith(\"FINAL_ANSWER:\"):\n",
    "        print(\"\\n=== Agent Execution Complete ===\")\n",
    "        break\n",
    "\n",
    "    elif response_text.startswith(\"Inadequate tools:\"):\n",
    "        break\n",
    "\n",
    "    print(f\"  Result: {iteration_result}\")\n",
    "    last_response = iteration_result\n",
    "    iteration_response.append(\n",
    "        f\"In the {current_iteration + 1} iteration you called {func_name} with {params} parameters, and the function returned {iteration_result}.\"\n",
    "    )\n",
    "\n",
    "    current_iteration += 1\n"
   ]
  },
  {
   "cell_type": "code",
   "execution_count": null,
   "metadata": {},
   "outputs": [],
   "source": [
    "iteration_response"
   ]
  },
  {
   "cell_type": "code",
   "execution_count": null,
   "metadata": {},
   "outputs": [],
   "source": [
    "print(current_query)"
   ]
  }
 ],
 "metadata": {
  "kernelspec": {
   "display_name": ".venv",
   "language": "python",
   "name": "python3"
  },
  "language_info": {
   "codemirror_mode": {
    "name": "ipython",
    "version": 3
   },
   "file_extension": ".py",
   "mimetype": "text/x-python",
   "name": "python",
   "nbconvert_exporter": "python",
   "pygments_lexer": "ipython3",
   "version": "3.12.10"
  }
 },
 "nbformat": 4,
 "nbformat_minor": 2
}
